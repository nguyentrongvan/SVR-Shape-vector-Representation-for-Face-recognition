{
 "cells": [
  {
   "cell_type": "code",
   "execution_count": 1,
   "id": "6d27f66c",
   "metadata": {},
   "outputs": [],
   "source": [
    "import numpy as np\n",
    "import os\n",
    "\n",
    "from tqdm import tqdm\n",
    "import matplotlib.pyplot as plt\n",
    "\n",
    "from shutil import copyfile\n",
    "import cv2\n",
    "from PIL import Image, ImageSequence\n",
    "import dlib"
   ]
  },
  {
   "cell_type": "code",
   "execution_count": 4,
   "id": "13040533",
   "metadata": {},
   "outputs": [],
   "source": [
    "from models.parser import face_parser"
   ]
  },
  {
   "cell_type": "code",
   "execution_count": 5,
   "id": "fc892112",
   "metadata": {},
   "outputs": [],
   "source": [
    "detector=dlib.get_frontal_face_detector()\n",
    "prs = face_parser.FaceParser()"
   ]
  },
  {
   "cell_type": "code",
   "execution_count": 6,
   "id": "945681fa",
   "metadata": {},
   "outputs": [
    {
     "data": {
      "text/plain": [
       "166"
      ]
     },
     "execution_count": 6,
     "metadata": {},
     "output_type": "execute_result"
    }
   ],
   "source": [
    "list_fol=os.listdir('YaleFaces/')\n",
    "len(list_fol)"
   ]
  },
  {
   "cell_type": "code",
   "execution_count": 7,
   "id": "fb361e98",
   "metadata": {},
   "outputs": [
    {
     "name": "stderr",
     "output_type": "stream",
     "text": [
      "  0%|                                                   | 0/166 [00:00<?, ?it/s]OMP: Info #250: KMP_AFFINITY: pid 43926 tid 43969 thread 1 bound to OS proc set 1\n",
      "OMP: Info #250: KMP_AFFINITY: pid 43926 tid 44059 thread 2 bound to OS proc set 2\n",
      "OMP: Info #250: KMP_AFFINITY: pid 43926 tid 44060 thread 3 bound to OS proc set 3\n",
      "OMP: Info #250: KMP_AFFINITY: pid 43926 tid 44062 thread 5 bound to OS proc set 5\n",
      "OMP: Info #250: KMP_AFFINITY: pid 43926 tid 44063 thread 6 bound to OS proc set 6\n",
      "OMP: Info #250: KMP_AFFINITY: pid 43926 tid 44061 thread 4 bound to OS proc set 4\n",
      "OMP: Info #250: KMP_AFFINITY: pid 43926 tid 44064 thread 7 bound to OS proc set 7\n",
      "OMP: Info #250: KMP_AFFINITY: pid 43926 tid 44065 thread 8 bound to OS proc set 0\n",
      "OMP: Info #250: KMP_AFFINITY: pid 43926 tid 43970 thread 9 bound to OS proc set 1\n",
      "OMP: Info #250: KMP_AFFINITY: pid 43926 tid 44067 thread 11 bound to OS proc set 3\n",
      "OMP: Info #250: KMP_AFFINITY: pid 43926 tid 44066 thread 10 bound to OS proc set 2\n",
      "OMP: Info #250: KMP_AFFINITY: pid 43926 tid 44068 thread 12 bound to OS proc set 4\n",
      "OMP: Info #250: KMP_AFFINITY: pid 43926 tid 44069 thread 13 bound to OS proc set 5\n",
      "OMP: Info #250: KMP_AFFINITY: pid 43926 tid 44071 thread 15 bound to OS proc set 7\n",
      "OMP: Info #250: KMP_AFFINITY: pid 43926 tid 44070 thread 14 bound to OS proc set 6\n",
      "OMP: Info #250: KMP_AFFINITY: pid 43926 tid 44072 thread 16 bound to OS proc set 0\n",
      "100%|█████████████████████████████████████████| 166/166 [02:09<00:00,  1.29it/s]\n"
     ]
    }
   ],
   "source": [
    "path='YaleFaces/'\n",
    "for file in tqdm(list_fol):\n",
    "    img=cv2.imread(path+file)\n",
    "    path_save='YaleFaces_seg/'+file\n",
    "    out = prs.parse_face(img)\n",
    "    save_img=cv2.applyColorMap(((out[0]*0.1+0.5)*255).astype(np.uint8), cv2.COLORMAP_JET)\n",
    "    cv2.imwrite(path_save,save_img)"
   ]
  }
 ],
 "metadata": {
  "kernelspec": {
   "display_name": "Python 3 (ipykernel)",
   "language": "python",
   "name": "python3"
  },
  "language_info": {
   "codemirror_mode": {
    "name": "ipython",
    "version": 3
   },
   "file_extension": ".py",
   "mimetype": "text/x-python",
   "name": "python",
   "nbconvert_exporter": "python",
   "pygments_lexer": "ipython3",
   "version": "3.9.6"
  }
 },
 "nbformat": 4,
 "nbformat_minor": 5
}
